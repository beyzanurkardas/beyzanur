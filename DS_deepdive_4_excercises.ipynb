{
 "cells": [
  {
   "cell_type": "markdown",
   "metadata": {},
   "source": [
    "# Pandas: Data Preparation\n",
    "In this section we're going to cover different data pre processing techniques to clean the data for data science purposes.\n",
    "For the first exercise take a look at `dropna()` and `drop_duplicates()` in the Pandas library."
   ]
  },
  {
   "cell_type": "code",
   "execution_count": 110,
   "metadata": {},
   "outputs": [
    {
     "data": {
      "text/html": [
       "<div>\n",
       "<style scoped>\n",
       "    .dataframe tbody tr th:only-of-type {\n",
       "        vertical-align: middle;\n",
       "    }\n",
       "\n",
       "    .dataframe tbody tr th {\n",
       "        vertical-align: top;\n",
       "    }\n",
       "\n",
       "    .dataframe thead th {\n",
       "        text-align: right;\n",
       "    }\n",
       "</style>\n",
       "<table border=\"1\" class=\"dataframe\">\n",
       "  <thead>\n",
       "    <tr style=\"text-align: right;\">\n",
       "      <th></th>\n",
       "      <th>date</th>\n",
       "      <th>meantemp</th>\n",
       "      <th>humidity</th>\n",
       "      <th>wind_speed</th>\n",
       "      <th>meanpressure</th>\n",
       "    </tr>\n",
       "  </thead>\n",
       "  <tbody>\n",
       "    <tr>\n",
       "      <th>0</th>\n",
       "      <td>2017-03-19</td>\n",
       "      <td>24.666667</td>\n",
       "      <td>52.277778</td>\n",
       "      <td>9.161111</td>\n",
       "      <td>1011.888889</td>\n",
       "    </tr>\n",
       "    <tr>\n",
       "      <th>1</th>\n",
       "      <td>2017-01-02</td>\n",
       "      <td>18.5</td>\n",
       "      <td>77.222222</td>\n",
       "      <td>2.894444</td>\n",
       "      <td>1018.277778</td>\n",
       "    </tr>\n",
       "    <tr>\n",
       "      <th>2</th>\n",
       "      <td>2017-01-28</td>\n",
       "      <td>14.863636</td>\n",
       "      <td>82.772727</td>\n",
       "      <td>9.690909</td>\n",
       "      <td>1019.636364</td>\n",
       "    </tr>\n",
       "    <tr>\n",
       "      <th>3</th>\n",
       "      <td>2017-01-03</td>\n",
       "      <td>17.111111</td>\n",
       "      <td>81.888889</td>\n",
       "      <td>4.016667</td>\n",
       "      <td>1018.333333</td>\n",
       "    </tr>\n",
       "    <tr>\n",
       "      <th>4</th>\n",
       "      <td>a</td>\n",
       "      <td>b</td>\n",
       "      <td>c</td>\n",
       "      <td>d</td>\n",
       "      <td>e</td>\n",
       "    </tr>\n",
       "    <tr>\n",
       "      <th>...</th>\n",
       "      <td>...</td>\n",
       "      <td>...</td>\n",
       "      <td>...</td>\n",
       "      <td>...</td>\n",
       "      <td>...</td>\n",
       "    </tr>\n",
       "    <tr>\n",
       "      <th>122</th>\n",
       "      <td>2017-02-24</td>\n",
       "      <td>19.125</td>\n",
       "      <td>40.375</td>\n",
       "      <td>16.6625</td>\n",
       "      <td>1016.125</td>\n",
       "    </tr>\n",
       "    <tr>\n",
       "      <th>123</th>\n",
       "      <td>2017-01-29</td>\n",
       "      <td>15.666667</td>\n",
       "      <td>81.777778</td>\n",
       "      <td>10.294444</td>\n",
       "      <td>1017.388889</td>\n",
       "    </tr>\n",
       "    <tr>\n",
       "      <th>124</th>\n",
       "      <td>2017-02-21</td>\n",
       "      <td>21.833333</td>\n",
       "      <td>69.416667</td>\n",
       "      <td>12.341667</td>\n",
       "      <td>1007.416667</td>\n",
       "    </tr>\n",
       "    <tr>\n",
       "      <th>125</th>\n",
       "      <td>2017-02-09</td>\n",
       "      <td>15.375</td>\n",
       "      <td>68.375</td>\n",
       "      <td>7.875</td>\n",
       "      <td>1016.375</td>\n",
       "    </tr>\n",
       "    <tr>\n",
       "      <th>126</th>\n",
       "      <td>9999</td>\n",
       "      <td>-999</td>\n",
       "      <td>-1000</td>\n",
       "      <td>1000</td>\n",
       "      <td>-550</td>\n",
       "    </tr>\n",
       "  </tbody>\n",
       "</table>\n",
       "<p>127 rows × 5 columns</p>\n",
       "</div>"
      ],
      "text/plain": [
       "           date   meantemp   humidity wind_speed meanpressure\n",
       "0    2017-03-19  24.666667  52.277778   9.161111  1011.888889\n",
       "1    2017-01-02       18.5  77.222222   2.894444  1018.277778\n",
       "2    2017-01-28  14.863636  82.772727   9.690909  1019.636364\n",
       "3    2017-01-03  17.111111  81.888889   4.016667  1018.333333\n",
       "4             a          b          c          d            e\n",
       "..          ...        ...        ...        ...          ...\n",
       "122  2017-02-24     19.125     40.375    16.6625     1016.125\n",
       "123  2017-01-29  15.666667  81.777778  10.294444  1017.388889\n",
       "124  2017-02-21  21.833333  69.416667  12.341667  1007.416667\n",
       "125  2017-02-09     15.375     68.375      7.875     1016.375\n",
       "126        9999       -999      -1000       1000         -550\n",
       "\n",
       "[127 rows x 5 columns]"
      ]
     },
     "execution_count": 110,
     "metadata": {},
     "output_type": "execute_result"
    }
   ],
   "source": [
    "#Data Ingestion\n",
    "import pandas as pd\n",
    "raw_data = pd.read_pickle('csv_data/RawDailyDelhiClimate.pkl')\n",
    "raw_data"
   ]
  },
  {
   "cell_type": "markdown",
   "metadata": {},
   "source": [
    "Exercise 1: Basic cleaning\n",
    "1. What kind of data inconsistencies can you spot?\n",
    "2. Delete missing values from the data set.\n",
    "3. Delete duplicate values from the data set."
   ]
  },
  {
   "cell_type": "code",
   "execution_count": 111,
   "metadata": {},
   "outputs": [],
   "source": [
    "#Write your solutions for exercise 1 here."
   ]
  },
  {
   "cell_type": "markdown",
   "metadata": {},
   "source": [
    "Exercise 2: Intermediate cleaning\n",
    "\n",
    "1. Write a function that includes the cleaning steps from the previous exercise, that takes a data frame as input and returns a cleaner data frame.\n",
    "2. Solve the other data inconsistencies in the data set and include this solution in the function you just wrote.\n",
    "3. Write the data as a csv named 'Clean{YOUR NAME}DailyDelhiClimate'."
   ]
  },
  {
   "cell_type": "code",
   "execution_count": 112,
   "metadata": {},
   "outputs": [],
   "source": [
    "#Write your solutions for exercise 2 here."
   ]
  },
  {
   "cell_type": "markdown",
   "metadata": {},
   "source": [
    "Exercise 3: Advanced Data quality check\n",
    "We've prepared a data set that is already clean. Now we use this prepped data set a double check.\n",
    "\n",
    "1. Read BOTH the prepped data csv file and the cleaned data set csv file that you just created. Do you notice anything different? If so, do you understand where it comes from?\n",
    "2. Create a solution that solves the difference in the first question of this exercise.\n",
    "3. Create a function that checks if the two data sets are the same or not.\n",
    "4. Create a nice weather function that adds a new column to the existing data set.\n",
    "5. Save the resulting data set."
   ]
  },
  {
   "cell_type": "code",
   "execution_count": 113,
   "metadata": {},
   "outputs": [],
   "source": [
    "#Write your solutions for exercise 3 here."
   ]
  }
 ],
 "metadata": {
  "kernelspec": {
   "display_name": "Python 3 (ipykernel)",
   "language": "python",
   "name": "python3"
  },
  "language_info": {
   "codemirror_mode": {
    "name": "ipython",
    "version": 3
   },
   "file_extension": ".py",
   "mimetype": "text/x-python",
   "name": "python",
   "nbconvert_exporter": "python",
   "pygments_lexer": "ipython3",
   "version": "3.10.9"
  },
  "vscode": {
   "interpreter": {
    "hash": "9ab0d8098df426ef8fc77b974d00ef1335da7881759b559e9dde3f97c8e7d45d"
   }
  }
 },
 "nbformat": 4,
 "nbformat_minor": 2
}
